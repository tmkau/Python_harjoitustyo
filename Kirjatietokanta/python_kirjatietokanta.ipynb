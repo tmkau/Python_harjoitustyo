{
 "cells": [
  {
   "cell_type": "code",
   "execution_count": 1,
   "metadata": {},
   "outputs": [],
   "source": [
    "import json\n",
    "import os"
   ]
  },
  {
   "cell_type": "code",
   "execution_count": 2,
   "metadata": {},
   "outputs": [],
   "source": [
    "#start() käynnistää tietokannan käyttäjälle. Käyttäjä voi nyt sopivan numeron valitsemalla ajaa tietokannan funktioita."
   ]
  },
  {
   "cell_type": "code",
   "execution_count": 3,
   "metadata": {},
   "outputs": [],
   "source": [
    "def start(): \n",
    "    print(\"Tervetuloa kirjatietokantaan! \\n\" + \n",
    "          \"Valitse seuraavista vaihtoehdoista kirjoittamalla vaihtoehtoa vastaava numero: \\n\" +\n",
    "          \"0 = Näytä tietokanta \\n1 = Tee uusi kirja \\n2 = Muuta haluamaasi kirjan tietoa \\n3 = Poista haluamasi kirja \\n\" +\n",
    "          \"4 = Kirjoita tietokantasi siistiksi tekstitiedostoksi \\n5 = Hae haluamasi kirjailijan kirjat \\n\" +\n",
    "          \"6 = Lopeta tietokannan käyttö \\n7= Näytä valikko\")\n",
    "    komento=int(input(\"syötä haluamaasi toimintoa vastaava numero:\"))\n",
    "    while komento!=6:\n",
    "        if komento==0:\n",
    "            listaaKirjat()\n",
    "            komento=int(input(\"syötä haluamaasi toimintoa vastaava numero:\"))\n",
    "        elif komento==1:\n",
    "            uusiKirja()\n",
    "            komento=int(input(\"syötä haluamaasi toimintoa vastaava numero:\"))\n",
    "        elif komento==2:\n",
    "            muutaTietoja()\n",
    "            komento=int(input(\"syötä haluamaasi toimintoa vastaava numero:\"))\n",
    "        elif komento==3:\n",
    "            poistaKirja()\n",
    "            komento=int(input(\"syötä haluamaasi toimintoa vastaava numero:\"))\n",
    "        elif komento==4:\n",
    "            kirjoitaSiistiTiedosto()\n",
    "            komento=int(input(\"syötä haluamaasi toimintoa vastaava numero:\"))\n",
    "        elif komento==5:\n",
    "            haeKirjailijanKirjat()\n",
    "            komento=int(input(\"syötä haluamaasi toimintoa vastaava numero:\"))\n",
    "        elif komento==7:\n",
    "            print(\"Valitse seuraavista vaihtoehdoista kirjoittamalla vaihtoehtoa vastaava numero: \\n\" +\n",
    "          \"0 = Näytä tietokanta \\n1 = Tee uusi kirja \\n2 = Muuta haluamaasi kirjan tietoa \\n3 = Poista haluamasi kirja \\n\" +\n",
    "          \"4 = Kirjoita tietokantasi siistiksi tekstitiedostoksi \\n5 = Hae haluamasi kirjailijan kirjat \\n\" +\n",
    "          \"6 = Lopeta tietokannan käyttö \\n7= Näytä valikko\")\n",
    "            komento=int(input(\"syötä haluamaasi toimintoa vastaava numero:\"))\n",
    "        else:\n",
    "            print(\"anna luku välillä 1-5, jos haluat poista ohjelmasta niin anna syötteeksi luku 6\")\n",
    "            komento=int(input(\"syötä haluamaasi toimintoa vastaava numero:\"))\n",
    "\n",
    "    \n",
    "if __name__== \"__start__\":\n",
    "  start()\n",
    "  "
   ]
  },
  {
   "cell_type": "code",
   "execution_count": 4,
   "metadata": {},
   "outputs": [],
   "source": [
    "#paivitaTiedosto ja listaaKirjatSisaKayttoon ovat funktioiden kutsumia funktioita, joista yksi päivittää muutokset tekstitiedostoon\n",
    "# ja toinen listaa kirjat käyttäjälle muun toiminnon yhteydessä"
   ]
  },
  {
   "cell_type": "code",
   "execution_count": 5,
   "metadata": {},
   "outputs": [],
   "source": [
    "def paivitaTiedosto(tiedosto, tietokanta):\n",
    "    with open(tiedosto, \"w\", encoding=\"utf8\") as g:\n",
    "        json.dump(tietokanta, g, ensure_ascii=False)\n",
    "        g.close()\n",
    "        \n",
    "def listaaKirjatSisaKayttoon(tiedosto):\n",
    "    d={}\n",
    "    with open(tiedosto, \"r\") as f:\n",
    "        d=json.loads(f.readline())\n",
    "        for rivi in sorted(d.keys()):\n",
    "                lopullinen=''\n",
    "                for kirja in sorted(d[rivi]):\n",
    "                    for tieto in kirja:\n",
    "                        lopullinen=\", \".join(str(tieto) for tieto in kirja)\n",
    "                    print(rivi, \":\", lopullinen)\n",
    "                lopullinen=''\n",
    "    \n",
    " \n"
   ]
  },
  {
   "cell_type": "code",
   "execution_count": 6,
   "metadata": {},
   "outputs": [],
   "source": [
    "#uusiKirja() lisää uuden kirjan tietokantaan"
   ]
  },
  {
   "cell_type": "code",
   "execution_count": 7,
   "metadata": {},
   "outputs": [],
   "source": [
    "def uusiKirja() :\n",
    "    tiedosto=input(\"mihin tiedostoon kirjataan:\")\n",
    "    nimi=input(\"anna kirjan nimi:\")\n",
    "    kirjailija=input(\"anna kirjailijan nimi:\")\n",
    "    vuosi=input(\"anna kirjoitusvuosi:\")\n",
    "    arvosana=input(\"anna arvosana:\")\n",
    "    d={}\n",
    "    if os.path.isfile(tiedosto) :\n",
    "        with open(tiedosto, \"r\") as f:\n",
    "            d=json.loads(f.readline())\n",
    "        if kirjailija not in d:\n",
    "            kirjailijan_kirjat=[]\n",
    "            d[kirjailija]=([nimi, vuosi, arvosana])\n",
    "            d[kirjailija]=kirjailijan_kirjat\n",
    "            kirjailijan_kirjat.append([nimi, vuosi, arvosana])\n",
    "            paivitaTiedosto(tiedosto, d)\n",
    "        else:\n",
    "            checker=1\n",
    "            for rivit in d[kirjailija]:\n",
    "                if rivit[0]==nimi:\n",
    "                    checker=0\n",
    "            if checker:\n",
    "                d[kirjailija].append([nimi,vuosi,arvosana])\n",
    "                paivitaTiedosto(tiedosto, d)\n",
    "            else:\n",
    "                print(\"kirjailijalla on jo tämänniminen kirja! Anna uusi nimi\")\n",
    "    else: \n",
    "        kirjailijan_kirjat=[]\n",
    "        d[kirjailija]=([nimi, vuosi, arvosana])\n",
    "        d[kirjailija]=kirjailijan_kirjat\n",
    "        kirjailijan_kirjat.append([nimi, vuosi, arvosana])\n",
    "        paivitaTiedosto(tiedosto, d)"
   ]
  },
  {
   "cell_type": "code",
   "execution_count": 8,
   "metadata": {},
   "outputs": [],
   "source": [
    "#poistKirja() poistaa halutun kirjan tietokannasta, jos kirjailijalla on 0 kirjaa poiston jälkeen\n",
    "#niin myös kirjailija poistetaan tietokannasta"
   ]
  },
  {
   "cell_type": "code",
   "execution_count": 9,
   "metadata": {},
   "outputs": [],
   "source": [
    "def poistaKirja():\n",
    "    tiedosto=input(\"anna tiedosto josta poistetaan:\")\n",
    "    if os.path.isfile(tiedosto)==False:\n",
    "        print(\"anna validi tiedostonimi:\")\n",
    "        return\n",
    "    listaaKirjatSisaKayttoon(str(tiedosto))\n",
    "    nimi=input(\"anna kirjan nimi joka poistetaan:\")\n",
    "    kirjailija=input(\"anna vielä kirjailijan nimi:\")\n",
    "    d={}\n",
    "    checker=0\n",
    "    with open(tiedosto, \"r\") as f:\n",
    "        d=json.loads(f.readline())\n",
    "    for rivi in d.values():\n",
    "        for osat in rivi:\n",
    "            print(osat)\n",
    "            if nimi in str(osat) and kirjailija in str(d.keys()):\n",
    "                checker=1\n",
    "                d[kirjailija].remove(osat)\n",
    "                paivitaTiedosto(tiedosto, d)\n",
    "                if d[kirjailija]==[]:\n",
    "                    del d[kirjailija]\n",
    "                    paivitaTiedosto(tiedosto, d)\n",
    "                    return\n",
    "    if checker==0:\n",
    "        print(\"etsit väärällä nimellä, kokeile uudestaan!\")\n"
   ]
  },
  {
   "cell_type": "code",
   "execution_count": 10,
   "metadata": {},
   "outputs": [],
   "source": [
    "#muutaTietoja() muuttaa kirjan yhtä tietoa kerrallaan, eli jokaiselle tietokannan kirjalle voi \n",
    "# funktiota kutsumalla muuttaa joko kirjan nimen, vuosiluvun, arvosanan tai kirjailijan nimen \n",
    "#(kirjailijan nimi muuttuu tällöin myös muille kirjailijan kirjoille)"
   ]
  },
  {
   "cell_type": "code",
   "execution_count": 11,
   "metadata": {},
   "outputs": [],
   "source": [
    "def muutaTietoja() :\n",
    "    tiedosto=input(\"anna tiedosto johon tehdään muutoksia:\")\n",
    "    if os.path.isfile(tiedosto)==False:\n",
    "        print(\"anna validi tiedostonimi:\")\n",
    "        return\n",
    "    listaaKirjatSisaKayttoon(str(tiedosto))\n",
    "    nimi=input(\"anna kirjan nimi johon tehdään muutoksia:\")\n",
    "    kirjailija=input(\"anna vielä kirjailijan nimi:\")\n",
    "    muutettava=input(\"mitä haluat muuttaa? anna numero \\n 0 = nimi, 1 = vuosiluku, 2 = arvosana, 3 = kirjailijan nimi\")\n",
    "    uusi=input(\"anna uusi arvo:\")\n",
    "    d={}\n",
    "    with open(tiedosto, \"r\") as f:\n",
    "        d=json.loads(f.readline())\n",
    "    checker=0\n",
    "    if nimi in str(d.values()) and kirjailija in str(d.keys()):\n",
    "        checker=1\n",
    "        lista=d[kirjailija]\n",
    "        if muutettava==\"3\":\n",
    "            d[uusi]=d.pop(kirjailija)\n",
    "            paivitaTiedosto(tiedosto, d)\n",
    "            print(\"muutos on nyt tallennettu!\")\n",
    "            return\n",
    "        else:\n",
    "            for osat in lista:\n",
    "                if osat[0]==nimi:\n",
    "                    osat[int(muutettava)]=uusi\n",
    "                    paivitaTiedosto(tiedosto, d)\n",
    "                    print(\"muutos on nyt tallennettu!\")\n",
    "                    return\n",
    "    if checker==0:\n",
    "        print(\"hakemallasi nimellä ei löytynyt mitään, tarkistathan nimen?\")"
   ]
  },
  {
   "cell_type": "code",
   "execution_count": 12,
   "metadata": {},
   "outputs": [],
   "source": [
    "#listaaKirjat() listaa kirjat komentoriviin kirjailijan mukaan aakkosjärjestyksessä sekä kirjan mukaan aakkosjärjestyksessä"
   ]
  },
  {
   "cell_type": "code",
   "execution_count": 13,
   "metadata": {},
   "outputs": [],
   "source": [
    "def listaaKirjat():\n",
    "    d={}\n",
    "    tiedosto=input(\"anna tiedosto josta luetaan:\")\n",
    "    if os.path.isfile(tiedosto)==False:\n",
    "        print(\"anna validi tiedostonimi\")\n",
    "        return\n",
    "    with open(tiedosto, \"r\") as f:\n",
    "        d=json.loads(f.readline())\n",
    "        for rivi in sorted(d.keys()):\n",
    "                lopullinen=''\n",
    "                for kirja in sorted(d[rivi]):\n",
    "                    for tieto in kirja:\n",
    "                        lopullinen=\", \".join(str(tieto) for tieto in kirja)\n",
    "                    print(rivi, \":\", lopullinen)\n",
    "                lopullinen=''"
   ]
  },
  {
   "cell_type": "code",
   "execution_count": 14,
   "metadata": {},
   "outputs": [],
   "source": [
    "#kirjoitaSiistiTiedosto() kirjoittaa siistin tekstitiedoston käyttäjän valitsemalla tiedostonimellä"
   ]
  },
  {
   "cell_type": "code",
   "execution_count": 15,
   "metadata": {},
   "outputs": [],
   "source": [
    "def kirjoitaSiistiTiedosto():\n",
    "    d={}\n",
    "    tiedosto=input(\"anna tiedosto josta luetaan:\")\n",
    "    uusi=input(\"anna siistin tiedoston nimi:\")\n",
    "    if os.path.isfile(tiedosto)==False:\n",
    "        print(\"anna validi tiedostonimi\")\n",
    "        return\n",
    "    with open(tiedosto, \"r\") as f:\n",
    "        d=json.loads(f.readline())\n",
    "    faili=open(uusi, \"w\")\n",
    "    for rivi in sorted(d.keys()):\n",
    "        lopullinen=''\n",
    "        for kirja in sorted(d[rivi]):\n",
    "            for tieto in kirja:\n",
    "                lopullinen=\", \".join(str(tieto) for tieto in kirja)\n",
    "            faili.write(str(rivi) + \":\" +  str(lopullinen) + \"\\n\")\n",
    "            lopullinen=''\n",
    "    faili.close()"
   ]
  },
  {
   "cell_type": "code",
   "execution_count": 16,
   "metadata": {},
   "outputs": [],
   "source": [
    "#haeKirjailijanKirjat() hakee käyttäjän määrittämn kirjan kaikki kirjat aakkosjärjestyksessä"
   ]
  },
  {
   "cell_type": "code",
   "execution_count": 17,
   "metadata": {},
   "outputs": [],
   "source": [
    "def haeKirjailijanKirjat():\n",
    "    tiedosto=input(\"anna tiedostonimi:\")\n",
    "    kirjailija=input(\"anna kirjailijan nimi:\")\n",
    "    d={}\n",
    "    with open(tiedosto, \"r\") as f:\n",
    "        d=json.loads(f.readline())\n",
    "    if kirjailija in d.keys():\n",
    "        for kirja in sorted(d[kirjailija]):\n",
    "            for kirjantieto in kirja:\n",
    "                tiedot=\",\".join(str(tieto) for tieto in kirja)\n",
    "            print(kirjailija, \":\", tiedot)\n",
    "    else:\n",
    "        print(\"kirjailijaa ei ole vielä tietokannassa!\")\n",
    "        "
   ]
  },
  {
   "cell_type": "markdown",
   "metadata": {},
   "source": [
    "start()"
   ]
  }
 ],
 "metadata": {
  "kernelspec": {
   "display_name": "Python 3",
   "language": "python",
   "name": "python3"
  },
  "language_info": {
   "codemirror_mode": {
    "name": "ipython",
    "version": 3
   },
   "file_extension": ".py",
   "mimetype": "text/x-python",
   "name": "python",
   "nbconvert_exporter": "python",
   "pygments_lexer": "ipython3",
   "version": "3.6.5"
  }
 },
 "nbformat": 4,
 "nbformat_minor": 2
}
